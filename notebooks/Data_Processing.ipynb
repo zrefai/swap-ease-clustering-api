{
 "cells": [
  {
   "cell_type": "code",
   "execution_count": 4,
   "metadata": {},
   "outputs": [],
   "source": [
    "import pandas as pd\n",
    "import json\n",
    "\n",
    "def open_file_and_extract(file_name):\n",
    "    with open(file_name) as f:\n",
    "        json_data = json.load(f)\n",
    "        \n",
    "    columns_count = {}\n",
    "    \n",
    "    # Get the max number of occurances of a trait across all NFTs\n",
    "    for column in json_data['columns']:\n",
    "        for distribution in json_data['distributions']:\n",
    "            result = [x for x in distribution[\"totalScoreDistribution\"] if x[\"trait_type\"] == column]\n",
    "        \n",
    "            if column in columns_count:\n",
    "                columns_count[column] = max(columns_count[column], len(result))\n",
    "            else:\n",
    "                columns_count[column] = len(result)\n",
    "\n",
    "    # Create columns list for data frame with max occurances accounted for\n",
    "    data_frame_columns = []\n",
    "    for k in columns_count:\n",
    "        for i in range(1, columns_count[k] + 1):\n",
    "            data_frame_columns.append(k)\n",
    "\n",
    "    # Get list of indexes by tokenId\n",
    "    indexes = [distribution['tokenId'] for distribution in json_data['distributions']]\n",
    "\n",
    "    # Create data frame with columns and tokenIds as indexes\n",
    "    data_frame = pd.DataFrame(columns=[*data_frame_columns], index=indexes)\n",
    "    data_frame.index.name = 'token_id'\n",
    "\n",
    "    # Loop through data frame columns to fill in data from opened file\n",
    "    for index, token in enumerate(data_frame.index):\n",
    "        row = []\n",
    "\n",
    "        # Format data per row\n",
    "        for key in columns_count:\n",
    "            result = [x['score'] for x in json_data['distributions'][index][\"totalScoreDistribution\"] if x[\"trait_type\"] == key]\n",
    "\n",
    "            # Fill remaining columns with 0s if no other data is available\n",
    "            while len(result) < columns_count[key]:\n",
    "                result.append(0)\n",
    "        \n",
    "            row += result\n",
    "\n",
    "        # Fill entire row of data frame with newly formatted row\n",
    "        data_frame.loc[token] = row\n",
    "\n",
    "    return data_frame\n",
    "    \n",
    "data_frame = open_file_and_extract('./score_distributions/DOODLES_totalScoreDistribution.json')\n",
    "\n",
    "data_frame.to_csv('DOODLES.csv')"
   ]
  }
 ],
 "metadata": {
  "kernelspec": {
   "display_name": "Python 3",
   "language": "python",
   "name": "python3"
  },
  "language_info": {
   "codemirror_mode": {
    "name": "ipython",
    "version": 3
   },
   "file_extension": ".py",
   "mimetype": "text/x-python",
   "name": "python",
   "nbconvert_exporter": "python",
   "pygments_lexer": "ipython3",
   "version": "3.8.9 (default, Apr 13 2022, 08:48:06) \n[Clang 13.1.6 (clang-1316.0.21.2.5)]"
  },
  "orig_nbformat": 4,
  "vscode": {
   "interpreter": {
    "hash": "31f2aee4e71d21fbe5cf8b01ff0e069b9275f58929596ceb00d14d90e3e16cd6"
   }
  }
 },
 "nbformat": 4,
 "nbformat_minor": 2
}
